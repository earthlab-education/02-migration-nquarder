{
  "cells": [
    {
      "cell_type": "markdown",
      "id": "499716e2-65b1-4c8e-a525-28c1ee8adddf",
      "metadata": {},
      "source": [
        "# Migration Data Download\n",
        "\n",
        "Get occurrence data from the Global Biodiversity Information Facility\n",
        "(GBIF)\n",
        "\n",
        "<link rel=\"stylesheet\" type=\"text/css\" href=\"./assets/styles.css\"><div class=\"callout callout-style-default callout-titled callout-task\"><div class=\"callout-header\"><div class=\"callout-icon-container\"><i class=\"callout-icon\"></i></div><div class=\"callout-title-container flex-fill\">Try It: Import packages</div></div><div class=\"callout-body-container callout-body\"><p>In the imports cell, we’ve included some packages that you will need.\n",
        "Add imports for packages that will help you:</p>\n",
        "<ol type=\"1\">\n",
        "<li>Work with reproducible file paths</li>\n",
        "<li>Work with tabular data</li>\n",
        "</ol></div></div>"
      ]
    },
    {
      "cell_type": "code",
      "execution_count": 12,
      "id": "8710bf77",
      "metadata": {
        "template": "student"
      },
      "outputs": [],
      "source": [
        "import os\n",
        "import pathlib\n",
        "import pandas as pd\n",
        "import geopandas as gpd\n",
        "import earthpy\n",
        "\n",
        "import time\n",
        "import zipfile\n",
        "from getpass import getpass\n",
        "from glob import glob\n",
        "\n",
        "import pygbif.occurrences as occ\n",
        "import pygbif.species as species\n",
        "import requests"
      ]
    },
    {
      "cell_type": "markdown",
      "id": "a5a7d036-2a16-4cad-a33b-6f440f336402",
      "metadata": {},
      "source": [
        "For this challenge, you will need to download some data to the computer\n",
        "you’re working on. We suggest using the `earthpy` library we develop to\n",
        "manage your downloads, since it encapsulates many best practices as far\n",
        "as:\n",
        "\n",
        "1.  Where to store your data\n",
        "2.  Dealing with archived data like .zip files\n",
        "3.  Avoiding version control problems\n",
        "4.  Making sure your code works cross-platform\n",
        "5.  Avoiding duplicate downloads\n",
        "\n",
        "If you’re working on one of our assignments through GitHub Classroom, it\n",
        "also lets us build in some handy defaults so that you can see your data\n",
        "files while you work.\n",
        "\n",
        "<link rel=\"stylesheet\" type=\"text/css\" href=\"./assets/styles.css\"><div class=\"callout callout-style-default callout-titled callout-task\"><div class=\"callout-header\"><div class=\"callout-icon-container\"><i class=\"callout-icon\"></i></div><div class=\"callout-title-container flex-fill\">Try It: Create a project folder</div></div><div class=\"callout-body-container callout-body\"><p>The code below will help you get started with making a project\n",
        "directory</p>\n",
        "<ol type=\"1\">\n",
        "<li>Replace <code>'your-project-directory-name-here'</code> with a\n",
        "<strong>descriptive</strong> name</li>\n",
        "<li>Run the cell</li>\n",
        "<li>The code should have printed out the path to your data files. Check\n",
        "that your data directory exists and has data in it using the terminal or\n",
        "your Finder/File Explorer.</li>\n",
        "</ol></div></div>\n",
        "\n",
        "> **File structure**\n",
        ">\n",
        "> These days, a lot of people find your file by searching for them or\n",
        "> selecting from a `Bookmarks` or `Recents` list. Even if you don’t use\n",
        "> it, your computer also keeps files in a **tree** structure of folders.\n",
        "> Put another way, you can organize and find files by travelling along a\n",
        "> unique **path**, e.g. `My Drive` \\> `Documents` \\>\n",
        "> `My awesome project` \\> `A project file` where each subsequent folder\n",
        "> is **inside** the previous one. This is convenient because all the\n",
        "> files for a project can be in the same place, and both people and\n",
        "> computers can rapidly locate files they want, provided they remember\n",
        "> the path.\n",
        ">\n",
        "> You may notice that when Python prints out a file path like this, the\n",
        "> folder names are **separated** by a `/` or `\\` (depending on your\n",
        "> operating system). This character is called the **file separator**,\n",
        "> and it tells you that the next piece of the path is **inside** the\n",
        "> previous one."
      ]
    },
    {
      "cell_type": "markdown",
      "id": "dc7bc417",
      "metadata": {},
      "source": [
        "/workspaces/data/gbif_download"
      ]
    },
    {
      "cell_type": "code",
      "execution_count": 2,
      "id": "350445b5",
      "metadata": {
        "template": "student"
      },
      "outputs": [
        {
          "data": {
            "text/plain": [
              "PosixPath('/workspaces/data/gbif_download')"
            ]
          },
          "execution_count": 2,
          "metadata": {},
          "output_type": "execute_result"
        }
      ],
      "source": [
        "# Create data directory\n",
        "project = earthpy.Project(\n",
        "    dirname='gbif_download')\n",
        "\n",
        "# Display the project directory\n",
        "project.project_dir"
      ]
    },
    {
      "cell_type": "markdown",
      "id": "fcacff13-2eda-4474-ae4d-8985a615a148",
      "metadata": {},
      "source": [
        "### STEP 1: Register and log in to GBIF\n",
        "\n",
        "You will need a [GBIF account](https://www.gbif.org/) to complete this\n",
        "challenge. You can use your GitHub account to authenticate with GBIF.\n",
        "Then, run the following code to enter your credentials for the rest of\n",
        "your session.\n",
        "\n",
        "<link rel=\"stylesheet\" type=\"text/css\" href=\"./assets/styles.css\"><div class=\"callout callout-style-default callout-error\"><div class=\"callout-header\"><div class=\"callout-icon-container\"><i class=\"callout-icon\"></i></div></div><div class=\"callout-body-container callout-body\"><p>This code is <strong>interactive</strong>, meaning that it will\n",
        "<strong>ask you for a response</strong>! The prompt can sometimes be\n",
        "hard to see if you are using VSCode – it appears at the\n",
        "<strong>top</strong> of your editor window.</p></div></div>\n",
        "\n",
        "> **Tip**\n",
        ">\n",
        "> If you need to save credentials across multiple sessions, you can\n",
        "> consider loading them in from a file like a `.env`…but make sure to\n",
        "> add it to .gitignore so you don’t commit your credentials to your\n",
        "> repository!\n",
        "\n",
        "> **Warning**\n",
        ">\n",
        "> Your email address **must** match the email you used to sign up for\n",
        "> GBIF!\n",
        "\n",
        "> **Tip**\n",
        ">\n",
        "> If you accidentally enter your credentials wrong, you can set\n",
        "> `reset=True` instead of `reset=False`."
      ]
    },
    {
      "cell_type": "code",
      "execution_count": 3,
      "id": "fe449f8a",
      "metadata": {},
      "outputs": [],
      "source": [
        "####--------------------------####\n",
        "#### DO NOT MODIFY THIS CODE! ####\n",
        "####--------------------------####\n",
        "# This code ASKS for your credentials \n",
        "# and saves it for the rest of the session.\n",
        "# NEVER put your credentials into your code!!!!\n",
        "\n",
        "# GBIF needs a username, password, and email \n",
        "# All 3 need to match the account\n",
        "reset = False\n",
        "\n",
        "# Request and store username\n",
        "if (not ('GBIF_USER'  in os.environ)) or reset:\n",
        "    os.environ['GBIF_USER'] = input('GBIF username:')\n",
        "\n",
        "# Securely request and store password\n",
        "if (not ('GBIF_PWD'  in os.environ)) or reset:\n",
        "    os.environ['GBIF_PWD'] = getpass('GBIF password:')\n",
        "    \n",
        "# Request and store account email address\n",
        "if (not ('GBIF_EMAIL'  in os.environ)) or reset:\n",
        "    os.environ['GBIF_EMAIL'] = input('GBIF email:')"
      ]
    },
    {
      "cell_type": "markdown",
      "id": "3586b2e0-3968-44a4-bb25-22d516ddd5d1",
      "metadata": {},
      "source": [
        "### STEP 2: Get the taxon key from GBIF\n",
        "\n",
        "One of the tricky parts about getting occurrence data from GBIF is that\n",
        "species often have multiple names in different contexts. Luckily, GBIF\n",
        "also provides a Name Backbone service that will translate scientific and\n",
        "colloquial names into unique identifiers. GBIF calls these identifiers\n",
        "**taxon keys**.\n",
        "\n",
        "<link rel=\"stylesheet\" type=\"text/css\" href=\"./assets/styles.css\"><div class=\"callout callout-style-default callout-titled callout-task\"><div class=\"callout-header\"><div class=\"callout-icon-container\"><i class=\"callout-icon\"></i></div><div class=\"callout-title-container flex-fill\">Try It</div></div><div class=\"callout-body-container callout-body\"><ol type=\"1\">\n",
        "<li>Put the species name, <code>{python}  scientific_name</code>, into\n",
        "the correct location in the code below.</li>\n",
        "<li>Examine the object you get back from the species query. What part of\n",
        "it do you think might be the taxon key?</li>\n",
        "<li>Extract and save the taxon key</li>\n",
        "</ol></div></div>"
      ]
    },
    {
      "cell_type": "code",
      "execution_count": null,
      "id": "1db5b8e5",
      "metadata": {},
      "outputs": [
        {
          "data": {
            "text/plain": [
              "{'usageKey': 5133088,\n",
              " 'scientificName': 'Danaus plexippus (Linnaeus, 1758)',\n",
              " 'canonicalName': 'Danaus plexippus',\n",
              " 'rank': 'SPECIES',\n",
              " 'status': 'ACCEPTED',\n",
              " 'confidence': 99,\n",
              " 'matchType': 'EXACT',\n",
              " 'kingdom': 'Animalia',\n",
              " 'phylum': 'Arthropoda',\n",
              " 'order': 'Lepidoptera',\n",
              " 'family': 'Nymphalidae',\n",
              " 'genus': 'Danaus',\n",
              " 'species': 'Danaus plexippus',\n",
              " 'kingdomKey': 1,\n",
              " 'phylumKey': 54,\n",
              " 'classKey': 216,\n",
              " 'orderKey': 797,\n",
              " 'familyKey': 7017,\n",
              " 'genusKey': 5133087,\n",
              " 'speciesKey': 5133088,\n",
              " 'class': 'Insecta'}"
            ]
          },
          "execution_count": 12,
          "metadata": {},
          "output_type": "execute_result"
        }
      ],
      "source": [
        "# Monarch butterfly (danaus plexippus)\n",
        "backbone = species.name_backbone(name='danaus plexippus')\n",
        "backbone"
      ]
    },
    {
      "cell_type": "code",
      "execution_count": 4,
      "id": "6d361296",
      "metadata": {
        "template": "student"
      },
      "outputs": [
        {
          "data": {
            "text/plain": [
              "{'usageKey': 9036008,\n",
              " 'acceptedUsageKey': 2474953,\n",
              " 'scientificName': 'Antigone canadensis (Linnaeus, 1758)',\n",
              " 'canonicalName': 'Antigone canadensis',\n",
              " 'rank': 'SPECIES',\n",
              " 'status': 'SYNONYM',\n",
              " 'confidence': 98,\n",
              " 'matchType': 'EXACT',\n",
              " 'kingdom': 'Animalia',\n",
              " 'phylum': 'Chordata',\n",
              " 'order': 'Gruiformes',\n",
              " 'family': 'Gruidae',\n",
              " 'genus': 'Grus',\n",
              " 'species': 'Grus canadensis',\n",
              " 'kingdomKey': 1,\n",
              " 'phylumKey': 44,\n",
              " 'classKey': 212,\n",
              " 'orderKey': 1493,\n",
              " 'familyKey': 9313,\n",
              " 'genusKey': 2474940,\n",
              " 'speciesKey': 2474953,\n",
              " 'class': 'Aves'}"
            ]
          },
          "execution_count": 4,
          "metadata": {},
          "output_type": "execute_result"
        }
      ],
      "source": [
        "# Sandhill crane (antigone canadensis)\n",
        "backbone = species.name_backbone(name='antigone canadensis')\n",
        "backbone"
      ]
    },
    {
      "cell_type": "markdown",
      "id": "f452db5f-305a-456d-a9e3-2b114530d129",
      "metadata": {},
      "source": [
        "### STEP 3: Download data from GBIF\n",
        "\n",
        "Downloading GBIF data is a multi-step process. However, we’ve provided\n",
        "you with a chunk of code that handles the API communications and caches\n",
        "the download. You’ll still need to customize your search.\n",
        "\n",
        "<link rel=\"stylesheet\" type=\"text/css\" href=\"./assets/styles.css\"><div class=\"callout callout-style-default callout-titled callout-task\"><div class=\"callout-header\"><div class=\"callout-icon-container\"><i class=\"callout-icon\"></i></div><div class=\"callout-title-container flex-fill\">Try It: Submit a request to GBIF</div></div><div class=\"callout-body-container callout-body\"><ol type=\"1\">\n",
        "<li><p>Replace <code>csv_file_pattern</code> with a string that will\n",
        "match <strong>any</strong> <code>.csv</code> file when used in the\n",
        "<code>.rglob()</code> method. HINT: the character <code>*</code>\n",
        "represents any number of any values except the file separator\n",
        "(e.g. <code>/</code> on UNIX systems)</p></li>\n",
        "<li><p>Add parameters to the GBIF download function,\n",
        "<code>occ.download()</code> to limit your query to:</p>\n",
        "<ul>\n",
        "<li>observations of <span data-__quarto_custom=\"true\"\n",
        "data-__quarto_custom_type=\"Shortcode\"\n",
        "data-__quarto_custom_context=\"Inline\"\n",
        "data-__quarto_custom_id=\"8\"></span></li>\n",
        "<li>from <span data-__quarto_custom=\"true\"\n",
        "data-__quarto_custom_type=\"Shortcode\"\n",
        "data-__quarto_custom_context=\"Inline\"\n",
        "data-__quarto_custom_id=\"9\"></span></li>\n",
        "<li>with spatial coordinates.</li>\n",
        "</ul></li>\n",
        "<li><p>Then, run the download. <strong>This can take a few\n",
        "minutes</strong>. You can check your downloads by logging on to the <a\n",
        "href=\"https://www.gbif.org/user/download\">GBIF website</a>.</p></li>\n",
        "</ol></div></div>"
      ]
    },
    {
      "cell_type": "code",
      "execution_count": null,
      "id": "0f432a70",
      "metadata": {
        "template": "student"
      },
      "outputs": [
        {
          "name": "stderr",
          "output_type": "stream",
          "text": [
            "INFO:Your download key is 0026910-251009101135966\n"
          ]
        }
      ],
      "source": [
        "# Only download once\n",
        "if not any(project.project_dir.rglob('*.csv')):\n",
        "    # Only submit one request\n",
        "    if not 'GBIF_DOWNLOAD_KEY' in os.environ:\n",
        "        # Submit query to GBIF\n",
        "        gbif_query = occ.download([\n",
        "            f'taxonKey = 2474953',\n",
        "            'hasCoordinate = TRUE',\n",
        "            f'year = 2023',\n",
        "        ])\n",
        "        # Take first result\n",
        "        os.environ['GBIF_DOWNLOAD_KEY'] = gbif_query[0]\n",
        "\n",
        "    # Wait for the download to build\n",
        "    dld_key = os.environ['GBIF_DOWNLOAD_KEY']\n",
        "    wait = occ.download_meta(dld_key)['status']\n",
        "    while not wait=='SUCCEEDED':\n",
        "        wait = occ.download_meta(dld_key)['status']\n",
        "        time.sleep(5)\n",
        "\n",
        "    # Download GBIF data\n",
        "    dld_info = occ.download_get(\n",
        "        os.environ['GBIF_DOWNLOAD_KEY'], \n",
        "        path=project.project_dir)\n",
        "    dld_path = dld_info['path']\n",
        "\n",
        "    # Unzip GBIF data\n",
        "    with zipfile.ZipFile(dld_path) as dld_zip:\n",
        "        dld_zip.extractall(path=project.project_dir)\n",
        "        \n",
        "    # Clean up the .zip file\n",
        "    os.remove(dld_path)\n",
        "\n",
        "# Find the extracted .csv file path (first result)\n",
        "original_gbif_path = next(\n",
        "    project.project_dir.rglob('*.csv'))\n",
        "original_gbif_path"
      ]
    },
    {
      "cell_type": "markdown",
      "id": "52cb7205-ef67-48e0-a318-7fba28465682",
      "metadata": {},
      "source": [
        "You might notice that the GBIF data filename isn’t very\n",
        "**descriptive**…at this point, you may want to clean up your data\n",
        "directory so that you know what the file is later on!\n",
        "\n",
        "<link rel=\"stylesheet\" type=\"text/css\" href=\"./assets/styles.css\"><div class=\"callout callout-style-default callout-titled callout-task\"><div class=\"callout-header\"><div class=\"callout-icon-container\"><i class=\"callout-icon\"></i></div><div class=\"callout-title-container flex-fill\">Try It</div></div><div class=\"callout-body-container callout-body\"><ol type=\"1\">\n",
        "<li>Replace ‘your-gbif-filename’ with a <strong>descriptive</strong>\n",
        "name.</li>\n",
        "<li>Run the cell</li>\n",
        "<li>Check your data folder. Is it organized the way you want?</li>\n",
        "</ol></div></div>"
      ]
    },
    {
      "cell_type": "code",
      "execution_count": 8,
      "id": "f3d48139",
      "metadata": {
        "template": "student"
      },
      "outputs": [
        {
          "data": {
            "text/plain": [
              "PosixPath('/workspaces/data/gbif_download/0026910-251009101135966.csv')"
            ]
          },
          "execution_count": 8,
          "metadata": {},
          "output_type": "execute_result"
        }
      ],
      "source": [
        "# Give the download a descriptive name\n",
        "sandhill_path = project.project_dir / '0026910-251009101135966.csv'\n",
        "# Move file to descriptive path\n",
        "sandhill_path"
      ]
    },
    {
      "cell_type": "markdown",
      "id": "47037264-65fc-4fb3-b43a-c53bcd4ba968",
      "metadata": {},
      "source": [
        "### STEP 4: Load the GBIF data into Python\n",
        "\n",
        "<link rel=\"stylesheet\" type=\"text/css\" href=\"./assets/styles.css\"><div class=\"callout callout-style-default callout-titled callout-task\"><div class=\"callout-header\"><div class=\"callout-icon-container\"><i class=\"callout-icon\"></i></div><div class=\"callout-title-container flex-fill\">Try It: Load GBIF data</div></div><div class=\"callout-body-container callout-body\"><p>Just like you did when wrangling your data from the data subset,\n",
        "you’ll need to load your GBIF data and convert it to a GeoDataFrame.</p></div></div>"
      ]
    },
    {
      "cell_type": "code",
      "execution_count": 9,
      "id": "f2078881",
      "metadata": {},
      "outputs": [
        {
          "name": "stdout",
          "output_type": "stream",
          "text": [
            "gbifID\tdatasetKey\toccurrenceID\tkingdom\tphylum\tclass\torder\tfamily\tgenus\tspecies\tinfraspecificEpithet\ttaxonRank\tscientificName\tverbatimScientificName\tverbatimScientificNameAuthorship\tcountryCode\tlocality\tstateProvince\toccurrenceStatus\tindividualCount\tpublishingOrgKey\tdecimalLatitude\tdecimalLongitude\tcoordinateUncertaintyInMeters\tcoordinatePrecision\televation\televationAccuracy\tdepth\tdepthAccuracy\teventDate\tday\tmonth\tyear\ttaxonKey\tspeciesKey\tbasisOfRecord\tinstitutionCode\tcollectionCode\tcatalogNumber\trecordNumber\tidentifiedBy\tdateIdentified\tlicense\trightsHolder\trecordedBy\ttypeStatus\testablishmentMeans\tlastInterpreted\tmediaType\tissue\n",
            "4773132873\t4fa7b334-ce0d-4e88-aaae-2e0c138d049e\tURN:catalog:CLO:EBIRD:OBS1599068068\tAnimalia\tChordata\tAves\tGruiformes\tGruidae\tGrus\tGrus canadensis\t\tSPECIES\tAntigone canadensis (Linnaeus, 1758)\tAntigone canadensis\t\tUS\t6345 Spurrier Rd, Big Clifty US-KY 37.48905, -86.07725\tKentucky\tPRESENT\t15\te2e717bf-551a-4917-bdc9-4fa0f342c530\t37.489044\t-86.077255\t\t\t\t\t\t\t2023-01-05\t5\t1\t2023\t9036008\t2474953\tHUMAN_OBSERVATION\tCLO\tEBIRD\tOBS1599068068\t\t\t\tCC_BY_4_0\t\tobsr129567\t\t\t2025-10-08T14:29:54.530Z\t\tCONTINENT_DERIVED_FROM_COORDINATES;TAXON_CONCEPT_ID_NOT_FOUND\n",
            "4698503071\t4fa7b334-ce0d-4e88-aaae-2e0c138d049e\tURN:catalog:CLO:EBIRD:OBS1730656859\tAnimalia\tChordata\tAves\tGruiformes\tGruidae\tGrus\tGrus canadensis\t\tSPECIES\tAntigone canadensis (Linnaeus, 1758)\tAntigone canadensis\t\tCA\tPoint Pelee National Park (general location)\tOntario\tPRESENT\t2\te2e717bf-551a-4917-bdc9-4fa0f342c530\t41.9554\t-82.514\t\t\t\t\t\t\t2023-05-17\t17\t5\t2023\t9036008\t2474953\tHUMAN_OBSERVATION\tCLO\tEBIRD\tOBS1730656859\t\t\t\tCC_BY_4_0\t\tobsr803998\t\t\t2025-10-08T14:29:54.530Z\t\tCONTINENT_DERIVED_FROM_COORDINATES;TAXON_CONCEPT_ID_NOT_FOUND\n",
            "4744751186\t4fa7b334-ce0d-4e88-aaae-2e0c138d049e\tURN:catalog:CLO:EBIRD:OBS1731917721\tAnimalia\tChordata\tAves\tGruiformes\tGruidae\tGrus\tGrus canadensis\t\tSPECIES\tAntigone canadensis (Linnaeus, 1758)\tAntigone canadensis\t\tUS\tLake St. Clair Metropark (Metro Beach Metropark)\tMichigan\tPRESENT\t2\te2e717bf-551a-4917-bdc9-4fa0f342c530\t42.57963\t-82.80327\t\t\t\t\t\t\t2023-05-18\t18\t5\t2023\t9036008\t2474953\tHUMAN_OBSERVATION\tCLO\tEBIRD\tOBS1731917721\t\t\t\tCC_BY_4_0\t\tobsr1485636\t\t\t2025-10-08T14:29:54.530Z\t\tCONTINENT_DERIVED_FROM_COORDINATES;TAXON_CONCEPT_ID_NOT_FOUND\n",
            "4708960325\t4fa7b334-ce0d-4e88-aaae-2e0c138d049e\tURN:catalog:CLO:EBIRD:OBS1649977899\tAnimalia\tChordata\tAves\tGruiformes\tGruidae\tGrus\tGrus canadensis\t\tSPECIES\tAntigone canadensis (Linnaeus, 1758)\tAntigone canadensis\t\tUS\t8878 Hinsdale Heights Drive, Polk City, Florida, US (28.16, -81.859)\tFlorida\tPRESENT\t2\te2e717bf-551a-4917-bdc9-4fa0f342c530\t28.160494\t-81.85865\t\t\t\t\t\t\t2023-03-07\t7\t3\t2023\t9036008\t2474953\tHUMAN_OBSERVATION\tCLO\tEBIRD\tOBS1649977899\t\t\t\tCC_BY_4_0\t\tobsr196652\t\t\t2025-10-08T14:29:54.530Z\t\tCONTINENT_DERIVED_FROM_COORDINATES;TAXON_CONCEPT_ID_NOT_FOUND\n",
            "4790233265\t4fa7b334-ce0d-4e88-aaae-2e0c138d049e\tURN:catalog:CLO:EBIRD:OBS1657775502\tAnimalia\tChordata\tAves\tGruiformes\tGruidae\tGrus\tGrus canadensis\t\tSPECIES\tAntigone canadensis (Linnaeus, 1758)\tAntigone canadensis\t\tUS\tPrairie Creek Preserve\tFlorida\tPRESENT\t2\te2e717bf-551a-4917-bdc9-4fa0f342c530\t27.006525\t-81.883934\t\t\t\t\t\t\t2023-03-17\t17\t3\t2023\t9036008\t2474953\tHUMAN_OBSERVATION\tCLO\tEBIRD\tOBS1657775502\t\t\t\tCC_BY_4_0\t\tobsr201511\t\t\t2025-10-08T14:29:54.530Z\t\tCONTINENT_DERIVED_FROM_COORDINATES;TAXON_CONCEPT_ID_NOT_FOUND\n",
            "4640410475\t4fa7b334-ce0d-4e88-aaae-2e0c138d049e\tURN:catalog:CLO:EBIRD:OBS1601264967\tAnimalia\tChordata\tAves\tGruiformes\tGruidae\tGrus\tGrus canadensis\t\tSPECIES\tAntigone canadensis (Linnaeus, 1758)\tAntigone canadensis\t\tUS\tCR27 fields--CR103 to CR104\tCalifornia\tPRESENT\t20\te2e717bf-551a-4917-bdc9-4fa0f342c530\t38.618774\t-121.70091\t\t\t\t\t\t\t2023-01-08\t8\t1\t2023\t9036008\t2474953\tHUMAN_OBSERVATION\tCLO\tEBIRD\tOBS1601264967\t\t\t\tCC_BY_4_0\t\tobsr168441\t\t\t2025-10-08T14:29:54.530Z\t\tCONTINENT_DERIVED_FROM_COORDINATES;TAXON_CONCEPT_ID_NOT_FOUND\n",
            "4656753335\t4fa7b334-ce0d-4e88-aaae-2e0c138d049e\tURN:catalog:CLO:EBIRD:OBS1848459791\tAnimalia\tChordata\tAves\tGruiformes\tGruidae\tGrus\tGrus canadensis\t\tSPECIES\tAntigone canadensis (Linnaeus, 1758)\tAntigone canadensis\t\tCA\tBaie-du-Febvre (station d'épuration, étangs & Rte Janelle)\tQuebec\tPRESENT\t6\te2e717bf-551a-4917-bdc9-4fa0f342c530\t46.144855\t-72.730545\t\t\t\t\t\t\t2023-09-23\t23\t9\t2023\t9036008\t2474953\tHUMAN_OBSERVATION\tCLO\tEBIRD\tOBS1848459791\t\t\t\tCC_BY_4_0\t\tobsr2075996\t\t\t2025-10-08T14:29:54.530Z\t\tCONTINENT_DERIVED_FROM_COORDINATES;TAXON_CONCEPT_ID_NOT_FOUND\n",
            "5363021208\t4fa7b334-ce0d-4e88-aaae-2e0c138d049e\tURN:catalog:CLO:EBIRD:OBS1787378312\tAnimalia\tChordata\tAves\tGruiformes\tGruidae\tGrus\tGrus canadensis\t\tSPECIES\tAntigone canadensis (Linnaeus, 1758)\tAntigone canadensis\t\tUS\t24606 South Parks Highway, Trapper Creek, Alaska, US (62.3, -150.242)\tAlaska\tPRESENT\t3\te2e717bf-551a-4917-bdc9-4fa0f342c530\t62.300297\t-150.24171\t\t\t\t\t\t\t2023-07-21\t21\t7\t2023\t9036008\t2474953\tHUMAN_OBSERVATION\tCLO\tEBIRD\tOBS1787378312\t\t\t\tCC_BY_4_0\t\tobsr757557\t\t\t2025-10-08T14:29:54.530Z\t\tCONTINENT_DERIVED_FROM_COORDINATES;TAXON_CONCEPT_ID_NOT_FOUND\n",
            "4807200507\t4fa7b334-ce0d-4e88-aaae-2e0c138d049e\tURN:catalog:CLO:EBIRD:OBS1688784502\tAnimalia\tChordata\tAves\tGruiformes\tGruidae\tGrus\tGrus canadensis\t\tSPECIES\tAntigone canadensis (Linnaeus, 1758)\tAntigone canadensis\t\tUS\tSensiba SWA\tWisconsin\tPRESENT\t4\te2e717bf-551a-4917-bdc9-4fa0f342c530\t44.6403\t-88.0155\t\t\t\t\t\t\t2023-04-16\t16\t4\t2023\t9036008\t2474953\tHUMAN_OBSERVATION\tCLO\tEBIRD\tOBS1688784502\t\t\t\tCC_BY_4_0\t\tobsr1161340\t\t\t2025-10-08T14:29:54.530Z\t\tCONTINENT_DERIVED_FROM_COORDINATES;TAXON_CONCEPT_ID_NOT_FOUND\n"
          ]
        }
      ],
      "source": [
        "!head $sandhill_path"
      ]
    },
    {
      "cell_type": "code",
      "execution_count": null,
      "id": "5f9e629b",
      "metadata": {
        "template": "student"
      },
      "outputs": [
        {
          "data": {
            "text/html": [
              "<div>\n",
              "<style scoped>\n",
              "    .dataframe tbody tr th:only-of-type {\n",
              "        vertical-align: middle;\n",
              "    }\n",
              "\n",
              "    .dataframe tbody tr th {\n",
              "        vertical-align: top;\n",
              "    }\n",
              "\n",
              "    .dataframe thead th {\n",
              "        text-align: right;\n",
              "    }\n",
              "</style>\n",
              "<table border=\"1\" class=\"dataframe\">\n",
              "  <thead>\n",
              "    <tr style=\"text-align: right;\">\n",
              "      <th></th>\n",
              "      <th>decimalLatitude</th>\n",
              "      <th>decimalLongitude</th>\n",
              "      <th>month</th>\n",
              "    </tr>\n",
              "    <tr>\n",
              "      <th>gbifID</th>\n",
              "      <th></th>\n",
              "      <th></th>\n",
              "      <th></th>\n",
              "    </tr>\n",
              "  </thead>\n",
              "  <tbody>\n",
              "    <tr>\n",
              "      <th>4773132873</th>\n",
              "      <td>37.489044</td>\n",
              "      <td>-86.077255</td>\n",
              "      <td>1</td>\n",
              "    </tr>\n",
              "    <tr>\n",
              "      <th>4698503071</th>\n",
              "      <td>41.955400</td>\n",
              "      <td>-82.514000</td>\n",
              "      <td>5</td>\n",
              "    </tr>\n",
              "    <tr>\n",
              "      <th>4744751186</th>\n",
              "      <td>42.579630</td>\n",
              "      <td>-82.803270</td>\n",
              "      <td>5</td>\n",
              "    </tr>\n",
              "    <tr>\n",
              "      <th>4708960325</th>\n",
              "      <td>28.160494</td>\n",
              "      <td>-81.858650</td>\n",
              "      <td>3</td>\n",
              "    </tr>\n",
              "    <tr>\n",
              "      <th>4790233265</th>\n",
              "      <td>27.006525</td>\n",
              "      <td>-81.883934</td>\n",
              "      <td>3</td>\n",
              "    </tr>\n",
              "  </tbody>\n",
              "</table>\n",
              "</div>"
            ],
            "text/plain": [
              "            decimalLatitude  decimalLongitude  month\n",
              "gbifID                                              \n",
              "4773132873        37.489044        -86.077255      1\n",
              "4698503071        41.955400        -82.514000      5\n",
              "4744751186        42.579630        -82.803270      5\n",
              "4708960325        28.160494        -81.858650      3\n",
              "4790233265        27.006525        -81.883934      3"
            ]
          },
          "execution_count": 10,
          "metadata": {},
          "output_type": "execute_result"
        }
      ],
      "source": [
        "# Load the GBIF data\n",
        "sandhill_df = pd.read_csv(\n",
        "    sandhill_path,\n",
        "    delimiter='\\t',\n",
        "    index_col='gbifID',\n",
        "    usecols=['gbifID', 'decimalLatitude', 'decimalLongitude', 'month']\n",
        ")\n",
        "sandhill_df.head()"
      ]
    },
    {
      "cell_type": "code",
      "execution_count": 13,
      "id": "784c59f1",
      "metadata": {},
      "outputs": [
        {
          "data": {
            "text/html": [
              "<div>\n",
              "<style scoped>\n",
              "    .dataframe tbody tr th:only-of-type {\n",
              "        vertical-align: middle;\n",
              "    }\n",
              "\n",
              "    .dataframe tbody tr th {\n",
              "        vertical-align: top;\n",
              "    }\n",
              "\n",
              "    .dataframe thead th {\n",
              "        text-align: right;\n",
              "    }\n",
              "</style>\n",
              "<table border=\"1\" class=\"dataframe\">\n",
              "  <thead>\n",
              "    <tr style=\"text-align: right;\">\n",
              "      <th></th>\n",
              "      <th>month</th>\n",
              "      <th>geometry</th>\n",
              "    </tr>\n",
              "    <tr>\n",
              "      <th>gbifID</th>\n",
              "      <th></th>\n",
              "      <th></th>\n",
              "    </tr>\n",
              "  </thead>\n",
              "  <tbody>\n",
              "    <tr>\n",
              "      <th>4773132873</th>\n",
              "      <td>1</td>\n",
              "      <td>POINT (-86.07726 37.48904)</td>\n",
              "    </tr>\n",
              "    <tr>\n",
              "      <th>4698503071</th>\n",
              "      <td>5</td>\n",
              "      <td>POINT (-82.514 41.9554)</td>\n",
              "    </tr>\n",
              "    <tr>\n",
              "      <th>4744751186</th>\n",
              "      <td>5</td>\n",
              "      <td>POINT (-82.80327 42.57963)</td>\n",
              "    </tr>\n",
              "    <tr>\n",
              "      <th>4708960325</th>\n",
              "      <td>3</td>\n",
              "      <td>POINT (-81.85865 28.16049)</td>\n",
              "    </tr>\n",
              "    <tr>\n",
              "      <th>4790233265</th>\n",
              "      <td>3</td>\n",
              "      <td>POINT (-81.88393 27.00652)</td>\n",
              "    </tr>\n",
              "    <tr>\n",
              "      <th>...</th>\n",
              "      <td>...</td>\n",
              "      <td>...</td>\n",
              "    </tr>\n",
              "    <tr>\n",
              "      <th>4103738021</th>\n",
              "      <td>3</td>\n",
              "      <td>POINT (-98.895 40.6437)</td>\n",
              "    </tr>\n",
              "    <tr>\n",
              "      <th>4135517029</th>\n",
              "      <td>5</td>\n",
              "      <td>POINT (-84.2403 42.3291)</td>\n",
              "    </tr>\n",
              "    <tr>\n",
              "      <th>4953718225</th>\n",
              "      <td>3</td>\n",
              "      <td>POINT (-109.051 32.084)</td>\n",
              "    </tr>\n",
              "    <tr>\n",
              "      <th>4953718976</th>\n",
              "      <td>1</td>\n",
              "      <td>POINT (-109.051 32.084)</td>\n",
              "    </tr>\n",
              "    <tr>\n",
              "      <th>4953718975</th>\n",
              "      <td>11</td>\n",
              "      <td>POINT (-109.716 31.5633)</td>\n",
              "    </tr>\n",
              "  </tbody>\n",
              "</table>\n",
              "<p>313458 rows × 2 columns</p>\n",
              "</div>"
            ],
            "text/plain": [
              "            month                    geometry\n",
              "gbifID                                       \n",
              "4773132873      1  POINT (-86.07726 37.48904)\n",
              "4698503071      5     POINT (-82.514 41.9554)\n",
              "4744751186      5  POINT (-82.80327 42.57963)\n",
              "4708960325      3  POINT (-81.85865 28.16049)\n",
              "4790233265      3  POINT (-81.88393 27.00652)\n",
              "...           ...                         ...\n",
              "4103738021      3     POINT (-98.895 40.6437)\n",
              "4135517029      5    POINT (-84.2403 42.3291)\n",
              "4953718225      3     POINT (-109.051 32.084)\n",
              "4953718976      1     POINT (-109.051 32.084)\n",
              "4953718975     11    POINT (-109.716 31.5633)\n",
              "\n",
              "[313458 rows x 2 columns]"
            ]
          },
          "execution_count": 13,
          "metadata": {},
          "output_type": "execute_result"
        }
      ],
      "source": [
        "# Convert to GeoDataFrame\n",
        "sandhill_gdf = (\n",
        "    gpd.GeoDataFrame(\n",
        "        sandhill_df,\n",
        "        geometry=gpd.points_from_xy(\n",
        "            sandhill_df.decimalLongitude,\n",
        "            sandhill_df.decimalLatitude),\n",
        "        crs=\"EPSG:4326\")\n",
        "    # Select the desired columns\n",
        "    [['month', 'geometry']]\n",
        ")\n",
        "\n",
        "sandhill_gdf"
      ]
    },
    {
      "cell_type": "code",
      "execution_count": 14,
      "id": "4e560ced",
      "metadata": {},
      "outputs": [
        {
          "data": {
            "text/plain": [
              "array([-173.33992 ,   11.113962,  175.9172  ,   74.0697  ])"
            ]
          },
          "execution_count": 14,
          "metadata": {},
          "output_type": "execute_result"
        }
      ],
      "source": [
        "# Check results\n",
        "sandhill_gdf.total_bounds"
      ]
    },
    {
      "cell_type": "markdown",
      "id": "91c8f771-29c1-4deb-acd2-ce0cba5800c5",
      "metadata": {},
      "source": [
        "# STEP -1: Wrap up\n",
        "\n",
        "Don’t forget to store your variables so you can use them in other\n",
        "notebooks! Replace `var1` and `var2` with the variable you want to save,\n",
        "separated by spaces."
      ]
    },
    {
      "cell_type": "code",
      "execution_count": 15,
      "id": "b4ed5221",
      "metadata": {},
      "outputs": [
        {
          "name": "stdout",
          "output_type": "stream",
          "text": [
            "Stored 'sandhill_gdf' (GeoDataFrame)\n"
          ]
        }
      ],
      "source": [
        "%store sandhill_gdf"
      ]
    },
    {
      "cell_type": "markdown",
      "id": "483de54c-9287-4ec3-ba27-26382dae3c62",
      "metadata": {},
      "source": [
        "Finally, be sure to `Restart` and `Run all` to make sure your notebook\n",
        "works all the way through!"
      ]
    }
  ],
  "metadata": {
    "kernelspec": {
      "display_name": "base",
      "language": "python",
      "name": "python3"
    },
    "language_info": {
      "codemirror_mode": {
        "name": "ipython",
        "version": 3
      },
      "file_extension": ".py",
      "mimetype": "text/x-python",
      "name": "python",
      "nbconvert_exporter": "python",
      "pygments_lexer": "ipython3",
      "version": "3.11.6"
    }
  },
  "nbformat": 4,
  "nbformat_minor": 5
}
